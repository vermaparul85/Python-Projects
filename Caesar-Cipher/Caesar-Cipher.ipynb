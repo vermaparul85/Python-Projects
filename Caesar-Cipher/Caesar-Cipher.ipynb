{
 "cells": [
  {
   "cell_type": "code",
   "execution_count": 1,
   "id": "c312641c-b041-4b45-a711-54bd6c13d6e7",
   "metadata": {},
   "outputs": [
    {
     "name": "stdout",
     "output_type": "stream",
     "text": [
      "\n",
      " ,adPPYba, ,adPPYYba,  ,adPPYba, ,adPPYba, ,adPPYYba, 8b,dPPYba,  \n",
      "a8\"     \"\" \"\"     `Y8 a8P_____88 I8[    \"\" \"\"     `Y8 88P'   \"Y8  \n",
      "8b         ,adPPPPP88 8PP\"\"\"\"\"\"\"  `\"Y8ba,  ,adPPPPP88 88          \n",
      "\"8a,   ,aa 88,    ,88 \"8b,   ,aa aa    ]8I 88,    ,88 88          \n",
      " `\"Ybbd8\"' `\"8bbdP\"Y8  `\"Ybbd8\"' `\"YbbdP\"' `\"8bbdP\"Y8 88   \n",
      "            88             88                                 \n",
      "           \"\"             88                                 \n",
      "                          88                                 \n",
      " ,adPPYba, 88 8b,dPPYba,  88,dPPYba,   ,adPPYba, 8b,dPPYba,  \n",
      "a8\"     \"\" 88 88P'    \"8a 88P'    \"8a a8P_____88 88P'   \"Y8  \n",
      "8b         88 88       d8 88       88 8PP\"\"\"\"\"\"\" 88          \n",
      "\"8a,   ,aa 88 88b,   ,a8\" 88       88 \"8b,   ,aa 88          \n",
      " `\"Ybbd8\"' 88 88`YbbdP\"'  88       88  `\"Ybbd8\"' 88          \n",
      "              88                                             \n",
      "              88           \n",
      "\n"
     ]
    },
    {
     "name": "stdin",
     "output_type": "stream",
     "text": [
      "Type \"encode\" to encrypt, \"decode\" to decrypt:\n",
      " encode\n",
      "Type your message:\n",
      " meet me at 3 pm!\n",
      "Type the shift number:\n",
      " 15\n"
     ]
    },
    {
     "name": "stdout",
     "output_type": "stream",
     "text": [
      "Here is your encoded message: btti bt pi 3 eb!\n"
     ]
    },
    {
     "name": "stdin",
     "output_type": "stream",
     "text": [
      "Type \"yes\" if you want to go again, otherwise type \"no\" yes\n",
      "Type \"encode\" to encrypt, \"decode\" to decrypt:\n",
      " decode\n",
      "Type your message:\n",
      " btti bt pi 3 eb!\n",
      "Type the shift number:\n",
      " 15\n"
     ]
    },
    {
     "name": "stdout",
     "output_type": "stream",
     "text": [
      "Here is your decoded message: meet me at 3 pm!\n"
     ]
    },
    {
     "name": "stdin",
     "output_type": "stream",
     "text": [
      "Type \"yes\" if you want to go again, otherwise type \"no\" no\n"
     ]
    }
   ],
   "source": [
    "import string\n",
    "from art import caesar_logo\n",
    "\n",
    "def caesar(encode_decode, message, shift_number):\n",
    "    output = ''\n",
    "    for letter in message:\n",
    "        if letter not in string.ascii_lowercase:\n",
    "            output += letter\n",
    "        else:\n",
    "            alphabet_index = string.ascii_lowercase.index(letter)\n",
    "        \n",
    "            if encode_decode == 'encode':\n",
    "                new_index = alphabet_index + shift_number\n",
    "            else:\n",
    "                new_index = alphabet_index - shift_number\n",
    "    \n",
    "            new_index %= len(string.ascii_lowercase)\n",
    "            output += string.ascii_lowercase[new_index]\n",
    "    return output\n",
    "    \n",
    "print(caesar_logo)\n",
    "\n",
    "replay = True\n",
    "while replay:\n",
    "    encode_decode = input('Type \"encode\" to encrypt, \"decode\" to decrypt:\\n').lower()\n",
    "    message = input('Type your message:\\n').lower()\n",
    "    shift_num = int(input('Type the shift number:\\n'))\n",
    "    \n",
    "    output = caesar(encode_decode, message, shift_num)\n",
    "    print(f'Here is your {encode_decode}d message: {output}')\n",
    "    \n",
    "    restart = input('Type \"yes\" if you want to go again, otherwise type \"no\"').lower()\n",
    "\n",
    "    if restart == 'no':\n",
    "        replay = False"
   ]
  }
 ],
 "metadata": {
  "kernelspec": {
   "display_name": "Python 3 (ipykernel)",
   "language": "python",
   "name": "python3"
  },
  "language_info": {
   "codemirror_mode": {
    "name": "ipython",
    "version": 3
   },
   "file_extension": ".py",
   "mimetype": "text/x-python",
   "name": "python",
   "nbconvert_exporter": "python",
   "pygments_lexer": "ipython3",
   "version": "3.11.7"
  }
 },
 "nbformat": 4,
 "nbformat_minor": 5
}
