{
 "cells": [
  {
   "cell_type": "code",
   "execution_count": 2,
   "id": "b6f1773e-21ca-4f67-895a-56c14cca4616",
   "metadata": {},
   "outputs": [
    {
     "name": "stdin",
     "output_type": "stream",
     "text": [
      "What do you choose? type 0 for Rock, 1 for Paper, or 2 for Scissors \n",
      " 2\n"
     ]
    },
    {
     "name": "stdout",
     "output_type": "stream",
     "text": [
      "\n",
      "    _______\n",
      "---'   ____)____\n",
      "          ______)\n",
      "          _______)\n",
      "      (____)\n",
      "---.__(___)\n",
      "\n",
      "Computer chose:\n",
      "\n",
      "    _______\n",
      "---'   ____)____\n",
      "          ______)\n",
      "          _______)\n",
      "         _______)\n",
      "---.__________)\n",
      "\n",
      "You win\n"
     ]
    }
   ],
   "source": [
    "import random\n",
    "\n",
    "rock = '''\n",
    "    _______\n",
    "---'   ____)\n",
    "      (_____)\n",
    "      (_____)\n",
    "      (____)\n",
    "---.__(___)\n",
    "'''\n",
    "\n",
    "paper = '''\n",
    "    _______\n",
    "---'   ____)____\n",
    "          ______)\n",
    "          _______)\n",
    "         _______)\n",
    "---.__________)\n",
    "'''\n",
    "\n",
    "scissors = '''\n",
    "    _______\n",
    "---'   ____)____\n",
    "          ______)\n",
    "          _______)\n",
    "      (____)\n",
    "---.__(___)\n",
    "'''\n",
    "\n",
    "game_diaplay = [rock, paper, scissors]\n",
    "\n",
    "while True:\n",
    "    players_choice = int(input('What do you choose? type 0 for Rock, 1 for Paper, or 2 for Scissors \\n'))\n",
    "\n",
    "    if players_choice not in [0,1,2]:\n",
    "        continue\n",
    "    else:\n",
    "        break\n",
    "        \n",
    "print(game_diaplay[players_choice])\n",
    "\n",
    "computer_choice = random.randint(0,2)\n",
    "\n",
    "print('Computer chose:')\n",
    "print(game_diaplay[computer_choice])\n",
    "\n",
    "if players_choice == computer_choice:\n",
    "    print('No one wins. Play again')\n",
    "elif players_choice == 0 and computer_choice == 2:\n",
    "    print('You win')\n",
    "elif computer_choice > players_choice:\n",
    "    print('You lose')\n",
    "elif computer_choice == 0 and players_choice == 2:\n",
    "    print('You lose')\n",
    "elif players_choice > computer_choice:\n",
    "    print('You win')"
   ]
  }
 ],
 "metadata": {
  "kernelspec": {
   "display_name": "Python 3 (ipykernel)",
   "language": "python",
   "name": "python3"
  },
  "language_info": {
   "codemirror_mode": {
    "name": "ipython",
    "version": 3
   },
   "file_extension": ".py",
   "mimetype": "text/x-python",
   "name": "python",
   "nbconvert_exporter": "python",
   "pygments_lexer": "ipython3",
   "version": "3.11.7"
  }
 },
 "nbformat": 4,
 "nbformat_minor": 5
}
