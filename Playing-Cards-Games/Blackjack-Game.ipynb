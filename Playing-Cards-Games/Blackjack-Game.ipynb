{
 "cells": [
  {
   "cell_type": "code",
   "execution_count": 38,
   "id": "07321908-bb33-4d80-94e5-44375c6608cb",
   "metadata": {},
   "outputs": [
    {
     "name": "stdout",
     "output_type": "stream",
     "text": [
      "Welcome to Blackjack game\n"
     ]
    },
    {
     "name": "stdin",
     "output_type": "stream",
     "text": [
      "How many chips would you like to bet?  300\n"
     ]
    },
    {
     "name": "stdout",
     "output_type": "stream",
     "text": [
      "Sorry, you do not have enough chips. you have 100 chips \n"
     ]
    },
    {
     "name": "stdin",
     "output_type": "stream",
     "text": [
      "How many chips would you like to bet?  30\n"
     ]
    },
    {
     "name": "stdout",
     "output_type": "stream",
     "text": [
      "\n",
      "Dealer's Hand: \n",
      "First card hidden \n",
      "Seven of Diamonds\n",
      "\n",
      "Player's Hand: \n",
      "Five of Hearts\n",
      "Two of Diamonds\n"
     ]
    },
    {
     "name": "stdin",
     "output_type": "stream",
     "text": [
      "Hit or Stand? Enter H or S:  d\n"
     ]
    },
    {
     "name": "stdout",
     "output_type": "stream",
     "text": [
      "Sorry, please try again!\n"
     ]
    },
    {
     "name": "stdin",
     "output_type": "stream",
     "text": [
      "Hit or Stand? Enter H or S:  h\n"
     ]
    },
    {
     "name": "stdout",
     "output_type": "stream",
     "text": [
      "\n",
      "Dealer's Hand: \n",
      "First card hidden \n",
      "Seven of Diamonds\n",
      "\n",
      "Player's Hand: \n",
      "Five of Hearts\n",
      "Two of Diamonds\n",
      "Three of Clubs\n"
     ]
    },
    {
     "name": "stdin",
     "output_type": "stream",
     "text": [
      "Hit or Stand? Enter H or S:  h\n"
     ]
    },
    {
     "name": "stdout",
     "output_type": "stream",
     "text": [
      "\n",
      "Dealer's Hand: \n",
      "First card hidden \n",
      "Seven of Diamonds\n",
      "\n",
      "Player's Hand: \n",
      "Five of Hearts\n",
      "Two of Diamonds\n",
      "Three of Clubs\n",
      "Six of Spades\n"
     ]
    },
    {
     "name": "stdin",
     "output_type": "stream",
     "text": [
      "Hit or Stand? Enter H or S:  h\n"
     ]
    },
    {
     "name": "stdout",
     "output_type": "stream",
     "text": [
      "\n",
      "Dealer's Hand: \n",
      "First card hidden \n",
      "Seven of Diamonds\n",
      "\n",
      "Player's Hand: \n",
      "Five of Hearts\n",
      "Two of Diamonds\n",
      "Three of Clubs\n",
      "Six of Spades\n",
      "Four of Hearts\n"
     ]
    },
    {
     "name": "stdin",
     "output_type": "stream",
     "text": [
      "Hit or Stand? Enter H or S:  s\n"
     ]
    },
    {
     "name": "stdout",
     "output_type": "stream",
     "text": [
      "Player stands, dealer's turn\n",
      "\n",
      "Dealer's Hand: \n",
      "First card hidden \n",
      "Seven of Diamonds\n",
      "\n",
      "Player's Hand: \n",
      "Five of Hearts\n",
      "Two of Diamonds\n",
      "Three of Clubs\n",
      "Six of Spades\n",
      "Four of Hearts\n",
      "\n",
      "Dealer's Hand: \n",
      "Five of Diamonds\n",
      "Seven of Diamonds\n",
      "Five of Spades\n",
      "Dealer's hand value: 17\n",
      "\n",
      "Player's Hand: \n",
      "Five of Hearts\n",
      "Two of Diamonds\n",
      "Three of Clubs\n",
      "Six of Spades\n",
      "Four of Hearts\n",
      "Player's hand value: 20\n",
      "Player Wins!\n",
      "\n",
      "Player's total chips: 130\n"
     ]
    },
    {
     "name": "stdin",
     "output_type": "stream",
     "text": [
      "Do you want to play again? Enter Y or N  n\n"
     ]
    },
    {
     "name": "stdout",
     "output_type": "stream",
     "text": [
      "Thank you for playing\n"
     ]
    }
   ],
   "source": [
    "import random\n",
    "\n",
    "suits = ('Hearts','Diamonds','Spades','Clubs')\n",
    "ranks = ('Two','Three','Four','Five','Six','Seven','Eight','Nine','Ten','Jack','Queen','King','Ace')\n",
    "values = {'Two':2,'Three':3,'Four':4,'Five':5,'Six':6,'Seven':7,'Eight':8,'Nine':9,'Ten':10,'Jack':10,'Queen':10,'King':10,'Ace':11}\n",
    "\n",
    "global playing\n",
    "playing = True\n",
    "\n",
    "class Card:\n",
    "    def __init__(self,suit,rank):\n",
    "        self.suit = suit\n",
    "        self.rank = rank\n",
    "        self.value = values[rank]\n",
    "\n",
    "    def __str__(self):\n",
    "        return f'{self.rank} of {self.suit}'\n",
    "\n",
    "class Deck:\n",
    "    def __init__(self):\n",
    "        self.all_cards = []\n",
    "\n",
    "        for suit in suits:\n",
    "            for rank in ranks:\n",
    "                created_card = Card(suit,rank)\n",
    "                self.all_cards.append(created_card)\n",
    "\n",
    "    def __str__(self):\n",
    "        all_cards_comp = ''\n",
    "        for card in self.all_cards:\n",
    "            all_cards_comp += '\\n' + card.__str__()\n",
    "\n",
    "        return 'Deck has: ' + all_cards_comp\n",
    "        \n",
    "    def shuffle(self):\n",
    "        random.shuffle(self.all_cards)\n",
    "\n",
    "    def deal_one(self):\n",
    "        return self.all_cards.pop()\n",
    "\n",
    "class Hand:\n",
    "    def __init__(self):\n",
    "        self.cards = []\n",
    "        self.value = 0\n",
    "        self.aces = 0\n",
    "\n",
    "    def add_cards(self,card):\n",
    "        self.cards.append(card)\n",
    "        self.value += values[card.rank]\n",
    "\n",
    "        # track aces\n",
    "        if card.rank == 'Aces':\n",
    "            self.aces += 1\n",
    "        \n",
    "    def adjust_for_aces(self):\n",
    "        # if total value is greater than 21 and have ace, change the value of ace to 1 instead of 11\n",
    "        while self.value > 21 and self.aces:\n",
    "            self.value -= 10\n",
    "            self.aces -= 1\n",
    "\n",
    "class Chips:\n",
    "    def __init__(self,total=100):\n",
    "        self.total = total\n",
    "        self.bet = 0\n",
    "\n",
    "    def win_bet(self):\n",
    "        self.total += self.bet\n",
    "\n",
    "    def lose_bet(self):\n",
    "        self.total -= self.bet\n",
    "\n",
    "def take_bet(chips):\n",
    "    while True:\n",
    "        try:\n",
    "            chips.bet = int(input('How many chips would you like to bet? '))\n",
    "        except:\n",
    "            print('Sorry, please provide an integer')\n",
    "        else:\n",
    "            if chips.bet > chips.total:\n",
    "                print(f'Sorry, you do not have enough chips. you have {chips.total} chips ')\n",
    "            else:\n",
    "                break\n",
    "\n",
    "def hit(deck,hand):\n",
    "    hand.add_cards(deck.deal_one())\n",
    "    hand.adjust_for_aces()\n",
    "\n",
    "def hit_or_stand(deck, hand):\n",
    "    global playing\n",
    "    \n",
    "    while True:\n",
    "        x = input('Hit or Stand? Enter H or S: ').upper()\n",
    "\n",
    "        if x[0].lower() == 'h':\n",
    "            hit(deck,hand)\n",
    "        elif x[0].lower() == 's':\n",
    "            print('Player stands, dealer\\'s turn')\n",
    "            playing = False\n",
    "        else:\n",
    "            print('Sorry, please try again!')\n",
    "            continue\n",
    "        break\n",
    "\n",
    "def show_some(player,dealer):\n",
    "    #show only one card for dealer\n",
    "    print('\\nDealer\\'s Hand: ')\n",
    "    print('First card hidden ')\n",
    "    print(f'{dealer.cards[1]}')\n",
    "    \n",
    "    #show all cards of player\n",
    "    print('\\nPlayer\\'s Hand: ')\n",
    "    for card in player.cards:\n",
    "        print(card)\n",
    "\n",
    "def show_all(player,dealer):\n",
    "    #show all cards for dealer, another way to print\n",
    "    print('\\nDealer\\'s Hand: ',*dealer.cards,sep='\\n')\n",
    "    print(f'Dealer\\'s hand value: {dealer.value}')\n",
    "    \n",
    "    #show all cards of player, another way to print\n",
    "    print('\\nPlayer\\'s Hand: ',*player.cards,sep='\\n')\n",
    "    print(f'Player\\'s hand value: {player.value}')\n",
    "\n",
    "def player_busts(player,dealer,chips):\n",
    "    print('BUST Player, Dealer wins!')\n",
    "    chips.lose_bet()\n",
    "    \n",
    "def player_wins(player,dealer,chips):\n",
    "    print('Player Wins!')\n",
    "    chips.win_bet()\n",
    "    \n",
    "def dealer_busts(player,dealer,chips):\n",
    "    print('BUST Dealer, Player wins!')\n",
    "    chips.win_bet()\n",
    "\n",
    "def dealer_wins(player,dealer,chips):\n",
    "    print('Dealer Wins!')\n",
    "    chips.lose_bet()\n",
    "    \n",
    "def push(player,dealer):\n",
    "    print('Dealer and player tie! PUSH!!')\n",
    "\n",
    "while True:\n",
    "    # print an opening statement\n",
    "    print('Welcome to Blackjack game')\n",
    "\n",
    "    # create an shuffle the deck, deal two cards to each player\n",
    "    new_deck = Deck()\n",
    "    new_deck.shuffle()\n",
    "\n",
    "    player_hand = Hand()\n",
    "    player_hand.add_cards(new_deck.deal_one())\n",
    "    player_hand.add_cards(new_deck.deal_one())\n",
    "    \n",
    "    dealer_hand = Hand()\n",
    "    dealer_hand.add_cards(new_deck.deal_one())\n",
    "    dealer_hand.add_cards(new_deck.deal_one())\n",
    "    \n",
    "    # set up player's chip\n",
    "    player_chips = Chips()\n",
    "\n",
    "    # prompt the player for their bet\n",
    "    take_bet(player_chips)\n",
    "\n",
    "    # show cards (keep one dealer card hidden)\n",
    "    show_some(player_hand,dealer_hand)\n",
    "\n",
    "    while playing:\n",
    "        # prompt player to hit ot stand\n",
    "        hit_or_stand(new_deck, player_hand)\n",
    "\n",
    "        # show cards (keep one dealer card hidden)\n",
    "        show_some(player_hand,dealer_hand)\n",
    "\n",
    "        # if player's hand exceeds 21, player busts\n",
    "        if player_hand.value > 21:\n",
    "            player_busts(player_hand,dealer_hand,player_chips)\n",
    "            break\n",
    "\n",
    "    # if player has not busted, play dealer's hand until dealer reaches 17\n",
    "    if player_hand.value <= 21:\n",
    "        while dealer_hand.value < 17:\n",
    "            hit(new_deck,dealer_hand)\n",
    "    \n",
    "        show_all(player_hand,dealer_hand)\n",
    "\n",
    "        # run different winning scenarios\n",
    "        if dealer_hand.value > 21:\n",
    "            dealer_busts(player_hand,dealer_hand,player_chips)\n",
    "        elif dealer_hand.value > player_hand.value:\n",
    "            dealer_wins(player_hand,dealer_hand,player_chips)\n",
    "        elif dealer_hand.value < player_hand.value:\n",
    "            player_wins(player_hand,dealer_hand,player_chips)\n",
    "        else:\n",
    "            push(player_hand,dealer_hand)\n",
    "        \n",
    "    # inform player of their total chips\n",
    "    print(f'\\nPlayer\\'s total chips: {player_chips.total}')\n",
    "    \n",
    "    game_on = input('Do you want to play again? Enter Y or N ').upper()\n",
    "\n",
    "    if game_on[0] == 'Y':\n",
    "        playing = True\n",
    "        continue\n",
    "    else:\n",
    "        print('Thank you for playing')\n",
    "        break"
   ]
  },
  {
   "cell_type": "code",
   "execution_count": null,
   "id": "6996be6d-5fa4-463b-a355-5283d7783e10",
   "metadata": {},
   "outputs": [],
   "source": []
  }
 ],
 "metadata": {
  "kernelspec": {
   "display_name": "Python 3 (ipykernel)",
   "language": "python",
   "name": "python3"
  },
  "language_info": {
   "codemirror_mode": {
    "name": "ipython",
    "version": 3
   },
   "file_extension": ".py",
   "mimetype": "text/x-python",
   "name": "python",
   "nbconvert_exporter": "python",
   "pygments_lexer": "ipython3",
   "version": "3.11.7"
  }
 },
 "nbformat": 4,
 "nbformat_minor": 5
}
