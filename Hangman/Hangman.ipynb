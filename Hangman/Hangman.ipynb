{
 "cells": [
  {
   "cell_type": "code",
   "execution_count": 1,
   "id": "f6c657ee-c329-44a6-a0ed-e16f17262857",
   "metadata": {},
   "outputs": [
    {
     "name": "stdout",
     "output_type": "stream",
     "text": [
      " \n",
      " _                                             \n",
      "| |                                            \n",
      "| |__   __ _ _ __   __ _ _ __ ___   __ _ _ __  \n",
      "| '_ \\ / _` | '_ \\ / _` | '_ ` _ \\ / _` | '_ \\ \n",
      "| | | | (_| | | | | (_| | | | | | | (_| | | | |\n",
      "|_| |_|\\__,_|_| |_|\\__, |_| |_| |_|\\__,_|_| |_|\n",
      "                    __/ |                      \n",
      "                   |___/    \n",
      "Word to guess: _ _ _ _ _\n"
     ]
    },
    {
     "name": "stdin",
     "output_type": "stream",
     "text": [
      "Guess the letter:  a\n"
     ]
    },
    {
     "name": "stdout",
     "output_type": "stream",
     "text": [
      "You guessed a, that is not in the word. You lose a life\n",
      "\n",
      "  +---+\n",
      "  |   |\n",
      "  O   |\n",
      "      |\n",
      "      |\n",
      "      |\n",
      "=========\n",
      "\n",
      "******************** 5/6 LIFES LEFT **************************\n",
      "_ _ _ _ _\n"
     ]
    },
    {
     "name": "stdin",
     "output_type": "stream",
     "text": [
      "Guess the letter:  b\n"
     ]
    },
    {
     "name": "stdout",
     "output_type": "stream",
     "text": [
      "_ _ _ _ b\n"
     ]
    },
    {
     "name": "stdin",
     "output_type": "stream",
     "text": [
      "Guess the letter:  e\n"
     ]
    },
    {
     "name": "stdout",
     "output_type": "stream",
     "text": [
      "You guessed e, that is not in the word. You lose a life\n",
      "\n",
      "  +---+\n",
      "  |   |\n",
      "  O   |\n",
      "  |   |\n",
      "      |\n",
      "      |\n",
      "=========\n",
      "\n",
      "******************** 4/6 LIFES LEFT **************************\n",
      "_ _ _ _ b\n"
     ]
    },
    {
     "name": "stdin",
     "output_type": "stream",
     "text": [
      "Guess the letter:  k\n"
     ]
    },
    {
     "name": "stdout",
     "output_type": "stream",
     "text": [
      "You guessed k, that is not in the word. You lose a life\n",
      "\n",
      "  +---+\n",
      "  |   |\n",
      "  O   |\n",
      " /|   |\n",
      "      |\n",
      "      |\n",
      "=========\n",
      "******************** 3/6 LIFES LEFT **************************\n",
      "_ _ _ _ b\n"
     ]
    },
    {
     "name": "stdin",
     "output_type": "stream",
     "text": [
      "Guess the letter:  s\n"
     ]
    },
    {
     "name": "stdout",
     "output_type": "stream",
     "text": [
      "You guessed s, that is not in the word. You lose a life\n",
      "\n",
      "  +---+\n",
      "  |   |\n",
      "  O   |\n",
      " /|\\  |\n",
      "      |\n",
      "      |\n",
      "=========\n",
      "\n",
      "******************** 2/6 LIFES LEFT **************************\n",
      "_ _ _ _ b\n"
     ]
    },
    {
     "name": "stdin",
     "output_type": "stream",
     "text": [
      "Guess the letter:  l\n"
     ]
    },
    {
     "name": "stdout",
     "output_type": "stream",
     "text": [
      "You guessed l, that is not in the word. You lose a life\n",
      "\n",
      "  +---+\n",
      "  |   |\n",
      "  O   |\n",
      " /|\\  |\n",
      " /    |\n",
      "      |\n",
      "=========\n",
      "\n",
      "******************** 1/6 LIFES LEFT **************************\n",
      "_ _ _ _ b\n"
     ]
    },
    {
     "name": "stdin",
     "output_type": "stream",
     "text": [
      "Guess the letter:  m\n"
     ]
    },
    {
     "name": "stdout",
     "output_type": "stream",
     "text": [
      "_ _ _ m b\n"
     ]
    },
    {
     "name": "stdin",
     "output_type": "stream",
     "text": [
      "Guess the letter:  w\n"
     ]
    },
    {
     "name": "stdout",
     "output_type": "stream",
     "text": [
      "You guessed w, that is not in the word. You lose a life\n",
      "\n",
      "  +---+\n",
      "  |   |\n",
      "  O   |\n",
      " /|\\  |\n",
      " / \\  |\n",
      "      |\n",
      "=========\n",
      "\n",
      "******************** 0/6 LIFES LEFT **************************\n",
      "_ _ _ m b\n",
      "Game over. You lost. The word was \"thumb\"\n"
     ]
    }
   ],
   "source": [
    "import random\n",
    "from hangman_images import logo, stages\n",
    "from hangman_words import word_list\n",
    "\n",
    "print(logo)\n",
    "\n",
    "#choose_num = random.randint(0, len(word_list)-1)\n",
    "#choosen_word = word_list[choose_num]\n",
    "choosen_word = random.choice(word_list)\n",
    "\n",
    "guessed_word = ['_'] * len(choosen_word)\n",
    "\n",
    "#print(choosen_word)\n",
    "print(f\"Word to guess: {' '.join(guessed_word)}\")\n",
    "\n",
    "total_lives = 6\n",
    "\n",
    "while '_' in guessed_word:\n",
    "    letter = input('Guess the letter: ').lower()\n",
    "\n",
    "    if letter in choosen_word:\n",
    "        for index,i in enumerate(choosen_word):\n",
    "            if i == letter:\n",
    "                guessed_word[index] = letter\n",
    "    else:\n",
    "        print(f'You guessed {letter}, that is not in the word. You lose a life')\n",
    "        total_lives -= 1\n",
    "        print(stages[total_lives])\n",
    "        print(f'******************** {total_lives}/6 LIFES LEFT **************************')\n",
    "    \n",
    "    print(' '.join(guessed_word))\n",
    "\n",
    "    if total_lives == 0:\n",
    "        break\n",
    "else:\n",
    "    print('You win!!')\n",
    "\n",
    "if '_' in guessed_word:\n",
    "    print(f'Game over. You lost. The word was \"{choosen_word}\"')"
   ]
  }
 ],
 "metadata": {
  "kernelspec": {
   "display_name": "Python 3 (ipykernel)",
   "language": "python",
   "name": "python3"
  },
  "language_info": {
   "codemirror_mode": {
    "name": "ipython",
    "version": 3
   },
   "file_extension": ".py",
   "mimetype": "text/x-python",
   "name": "python",
   "nbconvert_exporter": "python",
   "pygments_lexer": "ipython3",
   "version": "3.11.7"
  }
 },
 "nbformat": 4,
 "nbformat_minor": 5
}
