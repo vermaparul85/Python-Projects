{
 "cells": [
  {
   "cell_type": "code",
   "execution_count": 1,
   "id": "0fc1aa43",
   "metadata": {},
   "outputs": [
    {
     "name": "stdout",
     "output_type": "stream",
     "text": [
      "Pick a number from 0, 1 or 2: \n"
     ]
    },
    {
     "name": "stdin",
     "output_type": "stream",
     "text": [
      "Pick a number from 0, 1 or 2:  2\n"
     ]
    },
    {
     "name": "stdout",
     "output_type": "stream",
     "text": [
      "You  Guessed: 2\n",
      "Wrong Guess\n",
      "[' ', 'O', ' ']\n"
     ]
    }
   ],
   "source": [
    "from random import shuffle\n",
    "\n",
    "def shuffle_list(mylist):\n",
    "    shuffle(mylist)\n",
    "    return mylist\n",
    "\n",
    "def player_guess():\n",
    "    guess = ''\n",
    "\n",
    "    while guess not in ['0','1','2']:\n",
    "        print('Pick a number from 0, 1 or 2: ')\n",
    "        guess = input('Pick a number from 0, 1 or 2: ')\n",
    "\n",
    "    return int(guess)\n",
    "\n",
    "def check_guess(mylist,guess):\n",
    "    if mylist[guess] == 'O':\n",
    "        print('Correct!!')\n",
    "    else:\n",
    "        print('Wrong Guess')\n",
    "        print(mylist)\n",
    "\n",
    "# Initial List\n",
    "my_list = [' ','O',' ']\n",
    "\n",
    "# Shuffle list\n",
    "mixedup_list = shuffle_list(my_list)\n",
    "\n",
    "# Player's guess\n",
    "guess = player_guess()\n",
    "print(f'You  Guessed: {guess}')\n",
    "\n",
    "# Check Guess\n",
    "check_guess(mixedup_list,guess)"
   ]
  }
 ],
 "metadata": {
  "kernelspec": {
   "display_name": "Python 3 (ipykernel)",
   "language": "python",
   "name": "python3"
  },
  "language_info": {
   "codemirror_mode": {
    "name": "ipython",
    "version": 3
   },
   "file_extension": ".py",
   "mimetype": "text/x-python",
   "name": "python",
   "nbconvert_exporter": "python",
   "pygments_lexer": "ipython3",
   "version": "3.11.7"
  }
 },
 "nbformat": 4,
 "nbformat_minor": 5
}
