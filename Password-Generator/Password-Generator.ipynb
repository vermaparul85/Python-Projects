{
 "cells": [
  {
   "cell_type": "code",
   "execution_count": 1,
   "id": "42113786-13f9-4d26-b34a-890236ea0d01",
   "metadata": {},
   "outputs": [
    {
     "name": "stdout",
     "output_type": "stream",
     "text": [
      "Welcome to the PyPassword Generator!\n"
     ]
    },
    {
     "name": "stdin",
     "output_type": "stream",
     "text": [
      "How many letters would you like in your password?\n",
      " 12\n",
      "How many symbols would you like?\n",
      " 3\n",
      "How many numbers would you like?\n",
      " 2\n"
     ]
    },
    {
     "name": "stdout",
     "output_type": "stream",
     "text": [
      "['d', 'H', 'Q', 'e', 'L', 'Q', 'g', 'd', 'a', 'T', 'W', 'n', '^', ':', '%', '6', '8']\n",
      "['n', 'L', '6', '^', '8', 'a', 'g', ':', 'Q', 'T', 'e', 'd', 'H', '%', 'd', 'Q', 'W']\n",
      "Your password is: nL6^8ag:QTedH%dQW\n"
     ]
    }
   ],
   "source": [
    "import random\n",
    "import string\n",
    "\n",
    "letters_list = []\n",
    "\n",
    "print('Welcome to the PyPassword Generator!')\n",
    "letters = int(input('How many letters would you like in your password?\\n'))\n",
    "symbols = int(input('How many symbols would you like?\\n'))\n",
    "numbers = int(input('How many numbers would you like?\\n'))\n",
    "\n",
    "for i in range(letters):\n",
    "    letters_list.append(random.choice(string.ascii_letters))\n",
    "\n",
    "for i in range(symbols):\n",
    "    letters_list.append(random.choice(string.punctuation))\n",
    "    \n",
    "for i in range(numbers):\n",
    "    letters_list.append(random.choice(string.digits))\n",
    "\n",
    "print(letters_list)\n",
    "random.shuffle(letters_list)\n",
    "print(letters_list)\n",
    "\n",
    "password = ''.join(letters_list)\n",
    "print(f'Your password is: {password}')"
   ]
  }
 ],
 "metadata": {
  "kernelspec": {
   "display_name": "Python 3 (ipykernel)",
   "language": "python",
   "name": "python3"
  },
  "language_info": {
   "codemirror_mode": {
    "name": "ipython",
    "version": 3
   },
   "file_extension": ".py",
   "mimetype": "text/x-python",
   "name": "python",
   "nbconvert_exporter": "python",
   "pygments_lexer": "ipython3",
   "version": "3.11.7"
  }
 },
 "nbformat": 4,
 "nbformat_minor": 5
}
